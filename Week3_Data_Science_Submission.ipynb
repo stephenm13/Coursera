{
 "cells": [
  {
   "cell_type": "code",
   "execution_count": 1,
   "metadata": {},
   "outputs": [],
   "source": [
    "import urllib.request as ureq #Basic URL request wrapper\n",
    "from bs4 import BeautifulSoup as bsoup #HTML/xml Parser\n",
    "import numpy as np\n",
    "import pandas as pd"
   ]
  },
  {
   "cell_type": "code",
   "execution_count": 2,
   "metadata": {},
   "outputs": [],
   "source": [
    "url = 'https://en.wikipedia.org/wiki/List_of_postal_codes_of_Canada:_M' #URL to be scraped"
   ]
  },
  {
   "cell_type": "code",
   "execution_count": 3,
   "metadata": {},
   "outputs": [
    {
     "name": "stdout",
     "output_type": "stream",
     "text": [
      "[Warn] Table improperly formatted: \n",
      "M5V|Downtown Toronto|CN Tower / King and Spadina / Railway Lands / Harbourfront West / Bathurst\n",
      " Quay / South Niagara / Island airport|Dropping improper length. Please investigate\n"
     ]
    }
   ],
   "source": [
    "# Scrapes table for data. Could be more robust\n",
    "# 'Elif' statement is used to duplicate a row with a different neighborhood in 3rd column because\n",
    "# data was overall, pretty reasonable.\n",
    "# Handles one error of nested row\n",
    "\n",
    "columns = []\n",
    "dataMatrix = []\n",
    "\n",
    "i = 0\n",
    "\n",
    "with ureq.urlopen(url) as c:\n",
    "    for x in bsoup(c).table.tr.find_all('th'): \n",
    "        columns.append(x.get_text().rstrip('\\n'))  #Construct list of column headers\n",
    "\n",
    "with ureq.urlopen(url) as c:\n",
    "    for n in bsoup(c).table.find_all('tr'):\n",
    "        temp = n.get_text().replace('\\n\\n','+').rsplit('+')\n",
    "        temp2 = n.get_text().replace('\\n\\n','+').rsplit('+')\n",
    "        if len(temp) >3:\n",
    "            print(\"[Warn] Table improperly formatted: \" + '|'.join(temp) + \"Dropping improper length. Please investigate\")\n",
    "            del temp[-1]\n",
    "            dataMatrix.append(temp)\n",
    "        elif i == 27 or i == 31:\n",
    "            dataMatrix.append(temp)\n",
    "            temp2[2]='HI'\n",
    "            dataMatrix.append(temp2)\n",
    "        else:\n",
    "            dataMatrix.append(temp)\n",
    "        \n",
    "        i+=1\n",
    "            \n",
    "df = pd.DataFrame(dataMatrix)\n"
   ]
  },
  {
   "cell_type": "code",
   "execution_count": 4,
   "metadata": {},
   "outputs": [
    {
     "data": {
      "text/plain": [
       "(183, 3)"
      ]
     },
     "execution_count": 4,
     "metadata": {},
     "output_type": "execute_result"
    }
   ],
   "source": [
    "df.shape #Prints shape of dataframe with duplicates"
   ]
  },
  {
   "cell_type": "code",
   "execution_count": 5,
   "metadata": {},
   "outputs": [
    {
     "data": {
      "text/html": [
       "<div>\n",
       "<style scoped>\n",
       "    .dataframe tbody tr th:only-of-type {\n",
       "        vertical-align: middle;\n",
       "    }\n",
       "\n",
       "    .dataframe tbody tr th {\n",
       "        vertical-align: top;\n",
       "    }\n",
       "\n",
       "    .dataframe thead th {\n",
       "        text-align: right;\n",
       "    }\n",
       "</style>\n",
       "<table border=\"1\" class=\"dataframe\">\n",
       "  <thead>\n",
       "    <tr style=\"text-align: right;\">\n",
       "      <th></th>\n",
       "      <th>0</th>\n",
       "      <th>1</th>\n",
       "      <th>2</th>\n",
       "    </tr>\n",
       "  </thead>\n",
       "  <tbody>\n",
       "    <tr>\n",
       "      <th>0</th>\n",
       "      <td>\\nPostal code</td>\n",
       "      <td>Borough</td>\n",
       "      <td>Neighborhood\\n</td>\n",
       "    </tr>\n",
       "    <tr>\n",
       "      <th>1</th>\n",
       "      <td>\\nM1A</td>\n",
       "      <td>Not assigned</td>\n",
       "      <td>\\n</td>\n",
       "    </tr>\n",
       "    <tr>\n",
       "      <th>2</th>\n",
       "      <td>\\nM2A</td>\n",
       "      <td>Not assigned</td>\n",
       "      <td>\\n</td>\n",
       "    </tr>\n",
       "    <tr>\n",
       "      <th>3</th>\n",
       "      <td>\\nM3A</td>\n",
       "      <td>North York</td>\n",
       "      <td>Parkwoods\\n</td>\n",
       "    </tr>\n",
       "    <tr>\n",
       "      <th>4</th>\n",
       "      <td>\\nM4A</td>\n",
       "      <td>North York</td>\n",
       "      <td>Victoria Village\\n</td>\n",
       "    </tr>\n",
       "  </tbody>\n",
       "</table>\n",
       "</div>"
      ],
      "text/plain": [
       "               0             1                   2\n",
       "0  \\nPostal code       Borough      Neighborhood\\n\n",
       "1          \\nM1A  Not assigned                  \\n\n",
       "2          \\nM2A  Not assigned                  \\n\n",
       "3          \\nM3A    North York         Parkwoods\\n\n",
       "4          \\nM4A    North York  Victoria Village\\n"
      ]
     },
     "execution_count": 5,
     "metadata": {},
     "output_type": "execute_result"
    }
   ],
   "source": [
    "df.head()"
   ]
  },
  {
   "cell_type": "code",
   "execution_count": 6,
   "metadata": {},
   "outputs": [],
   "source": [
    "df = df.replace(r'\\n','', regex=True) #Remove all '\\n' from df cells"
   ]
  },
  {
   "cell_type": "code",
   "execution_count": 7,
   "metadata": {},
   "outputs": [
    {
     "data": {
      "text/html": [
       "<div>\n",
       "<style scoped>\n",
       "    .dataframe tbody tr th:only-of-type {\n",
       "        vertical-align: middle;\n",
       "    }\n",
       "\n",
       "    .dataframe tbody tr th {\n",
       "        vertical-align: top;\n",
       "    }\n",
       "\n",
       "    .dataframe thead th {\n",
       "        text-align: right;\n",
       "    }\n",
       "</style>\n",
       "<table border=\"1\" class=\"dataframe\">\n",
       "  <thead>\n",
       "    <tr style=\"text-align: right;\">\n",
       "      <th></th>\n",
       "      <th>0</th>\n",
       "      <th>1</th>\n",
       "      <th>2</th>\n",
       "    </tr>\n",
       "  </thead>\n",
       "  <tbody>\n",
       "    <tr>\n",
       "      <th>0</th>\n",
       "      <td>Postal code</td>\n",
       "      <td>Borough</td>\n",
       "      <td>Neighborhood</td>\n",
       "    </tr>\n",
       "    <tr>\n",
       "      <th>1</th>\n",
       "      <td>M1A</td>\n",
       "      <td>Not assigned</td>\n",
       "      <td></td>\n",
       "    </tr>\n",
       "    <tr>\n",
       "      <th>2</th>\n",
       "      <td>M2A</td>\n",
       "      <td>Not assigned</td>\n",
       "      <td></td>\n",
       "    </tr>\n",
       "    <tr>\n",
       "      <th>3</th>\n",
       "      <td>M3A</td>\n",
       "      <td>North York</td>\n",
       "      <td>Parkwoods</td>\n",
       "    </tr>\n",
       "    <tr>\n",
       "      <th>4</th>\n",
       "      <td>M4A</td>\n",
       "      <td>North York</td>\n",
       "      <td>Victoria Village</td>\n",
       "    </tr>\n",
       "  </tbody>\n",
       "</table>\n",
       "</div>"
      ],
      "text/plain": [
       "             0             1                 2\n",
       "0  Postal code       Borough      Neighborhood\n",
       "1          M1A  Not assigned                  \n",
       "2          M2A  Not assigned                  \n",
       "3          M3A    North York         Parkwoods\n",
       "4          M4A    North York  Victoria Village"
      ]
     },
     "execution_count": 7,
     "metadata": {},
     "output_type": "execute_result"
    }
   ],
   "source": [
    "\n",
    "df.head()\n"
   ]
  },
  {
   "cell_type": "code",
   "execution_count": 8,
   "metadata": {},
   "outputs": [],
   "source": [
    "df.columns = df.iloc[0] # Makes first row a header\n",
    "df.drop([0],inplace=True) # Drops first row"
   ]
  },
  {
   "cell_type": "code",
   "execution_count": 9,
   "metadata": {},
   "outputs": [],
   "source": [
    "# print(df.to_string())"
   ]
  },
  {
   "cell_type": "code",
   "execution_count": 10,
   "metadata": {},
   "outputs": [],
   "source": [
    "# df['Postal code'].index.get_duplicates()\n",
    "# df[df['Postal code'].duplicated()]"
   ]
  },
  {
   "cell_type": "code",
   "execution_count": 11,
   "metadata": {},
   "outputs": [],
   "source": [
    "indexNames = df[(df['Borough'] == 'Not assigned')].index # Gets indicies of all boroughs that are unassigned."
   ]
  },
  {
   "cell_type": "code",
   "execution_count": 12,
   "metadata": {},
   "outputs": [
    {
     "data": {
      "text/plain": [
       "Int64Index([  1,   2,   8,  11,  16,  17,  20,  25,  26,  30,  31,  36,  37,\n",
       "             38,  40,  41,  45,  46,  47,  54,  55,  56,  63,  64,  65,  72,\n",
       "             73,  74,  81,  82,  90,  91,  99, 100, 104, 108, 109, 113, 118,\n",
       "            121, 122, 126, 127, 128, 130, 131, 134, 135, 136, 137, 139, 140,\n",
       "            143, 144, 148, 149, 152, 153, 157, 158, 161, 162, 164, 165, 166,\n",
       "            167, 169, 170, 173, 174, 175, 176, 177, 178, 179, 180, 182],\n",
       "           dtype='int64')"
      ]
     },
     "execution_count": 12,
     "metadata": {},
     "output_type": "execute_result"
    }
   ],
   "source": [
    "indexNames"
   ]
  },
  {
   "cell_type": "code",
   "execution_count": 13,
   "metadata": {},
   "outputs": [],
   "source": [
    "df.drop(indexNames,inplace=True) # Drops unassigned boroghs"
   ]
  },
  {
   "cell_type": "code",
   "execution_count": 14,
   "metadata": {},
   "outputs": [
    {
     "data": {
      "text/plain": [
       "(105, 3)"
      ]
     },
     "execution_count": 14,
     "metadata": {},
     "output_type": "execute_result"
    }
   ],
   "source": [
    "df.shape # New shape of dataframe with duplicates"
   ]
  },
  {
   "cell_type": "code",
   "execution_count": 15,
   "metadata": {},
   "outputs": [],
   "source": [
    "df=df.set_index(\"Postal code\", drop=True)  #To be removed (TBR)"
   ]
  },
  {
   "cell_type": "code",
   "execution_count": 16,
   "metadata": {},
   "outputs": [
    {
     "name": "stdout",
     "output_type": "stream",
     "text": [
      "[0, 1]\n"
     ]
    }
   ],
   "source": [
    "df[df.index.duplicated()]['Borough']\n",
    "print(list(range(len(list(enumerate(df[df.index.duplicated()].index)))))) # TBR"
   ]
  },
  {
   "cell_type": "code",
   "execution_count": 17,
   "metadata": {},
   "outputs": [
    {
     "data": {
      "text/plain": [
       "0    The Beaches, HI\n",
       "Name: Neighborhood, dtype: object"
      ]
     },
     "execution_count": 17,
     "metadata": {},
     "output_type": "execute_result"
    }
   ],
   "source": [
    "df.loc[['M4E']].groupby(['Postal code','Borough'],as_index=False).agg(', '.join)['Neighborhood'] # TBR"
   ]
  },
  {
   "cell_type": "code",
   "execution_count": 18,
   "metadata": {},
   "outputs": [
    {
     "data": {
      "text/html": [
       "<div>\n",
       "<style scoped>\n",
       "    .dataframe tbody tr th:only-of-type {\n",
       "        vertical-align: middle;\n",
       "    }\n",
       "\n",
       "    .dataframe tbody tr th {\n",
       "        vertical-align: top;\n",
       "    }\n",
       "\n",
       "    .dataframe thead th {\n",
       "        text-align: right;\n",
       "    }\n",
       "</style>\n",
       "<table border=\"1\" class=\"dataframe\">\n",
       "  <thead>\n",
       "    <tr style=\"text-align: right;\">\n",
       "      <th></th>\n",
       "      <th>Borough</th>\n",
       "      <th>Neighborhood</th>\n",
       "    </tr>\n",
       "    <tr>\n",
       "      <th>Postal code</th>\n",
       "      <th></th>\n",
       "      <th></th>\n",
       "    </tr>\n",
       "  </thead>\n",
       "  <tbody>\n",
       "    <tr>\n",
       "      <th>M9C</th>\n",
       "      <td>Etobicoke</td>\n",
       "      <td>Eringate / Bloordale Gardens / Old Burnhamthor...</td>\n",
       "    </tr>\n",
       "    <tr>\n",
       "      <th>M4E</th>\n",
       "      <td>East Toronto</td>\n",
       "      <td>The Beaches, HI</td>\n",
       "    </tr>\n",
       "  </tbody>\n",
       "</table>\n",
       "</div>"
      ],
      "text/plain": [
       "                  Borough                                       Neighborhood\n",
       "Postal code                                                                 \n",
       "M9C             Etobicoke  Eringate / Bloordale Gardens / Old Burnhamthor...\n",
       "M4E          East Toronto                                    The Beaches, HI"
      ]
     },
     "execution_count": 18,
     "metadata": {},
     "output_type": "execute_result"
    }
   ],
   "source": [
    "##Algo for:\n",
    "## - Looking for duplicate Postal codes\n",
    "## - Assumes Borough is the same\n",
    "## - Concatenates neighborhoods with a comma in-between\n",
    "\n",
    "##Returns:\n",
    "## - Dataframe to replace duplicate rows\n",
    "\n",
    "repDf = pd.DataFrame(columns=['Postal code', 'Borough', 'Neighborhood'])\n",
    "\n",
    "for i in df[df.index.duplicated()].index:\n",
    "    pc = i\n",
    "    borough = df.loc[[i]]['Borough']\n",
    "    neigh = df.loc[[i]].groupby(['Borough'],as_index=False).agg(', '.join)['Neighborhood']\n",
    "    repDf = repDf.append({'Postal code' : pc , 'Borough' : borough.values[0],'Neighborhood':neigh.values[0]} , ignore_index=True)\n",
    "#     print(np.unique(borough.to_frame()['Borough']))\n",
    "#     print(borough.values[0])\n",
    "\n",
    "repDf=repDf.set_index(\"Postal code\", drop=True)\n",
    "repDf.head()"
   ]
  },
  {
   "cell_type": "code",
   "execution_count": 19,
   "metadata": {},
   "outputs": [
    {
     "data": {
      "text/plain": [
       "Index(['M9C', 'M4E'], dtype='object', name='Postal code')"
      ]
     },
     "execution_count": 19,
     "metadata": {},
     "output_type": "execute_result"
    }
   ],
   "source": [
    "df[df.index.duplicated()].index"
   ]
  },
  {
   "cell_type": "code",
   "execution_count": 20,
   "metadata": {},
   "outputs": [],
   "source": [
    "for n in  df[df.index.duplicated()].index:\n",
    "    df=df.drop(n,axis=0)"
   ]
  },
  {
   "cell_type": "code",
   "execution_count": 21,
   "metadata": {},
   "outputs": [
    {
     "data": {
      "text/plain": [
       "(101, 2)"
      ]
     },
     "execution_count": 21,
     "metadata": {},
     "output_type": "execute_result"
    }
   ],
   "source": [
    "df.shape # Remove duplicat rows"
   ]
  },
  {
   "cell_type": "code",
   "execution_count": 22,
   "metadata": {},
   "outputs": [],
   "source": [
    "df=df.append(repDf) # Add concatenated rows"
   ]
  },
  {
   "cell_type": "code",
   "execution_count": 23,
   "metadata": {},
   "outputs": [
    {
     "data": {
      "text/plain": [
       "(103, 2)"
      ]
     },
     "execution_count": 23,
     "metadata": {},
     "output_type": "execute_result"
    }
   ],
   "source": [
    "df.shape"
   ]
  },
  {
   "cell_type": "code",
   "execution_count": 24,
   "metadata": {},
   "outputs": [
    {
     "data": {
      "text/html": [
       "<div>\n",
       "<style scoped>\n",
       "    .dataframe tbody tr th:only-of-type {\n",
       "        vertical-align: middle;\n",
       "    }\n",
       "\n",
       "    .dataframe tbody tr th {\n",
       "        vertical-align: top;\n",
       "    }\n",
       "\n",
       "    .dataframe thead th {\n",
       "        text-align: right;\n",
       "    }\n",
       "</style>\n",
       "<table border=\"1\" class=\"dataframe\">\n",
       "  <thead>\n",
       "    <tr style=\"text-align: right;\">\n",
       "      <th></th>\n",
       "      <th>Borough</th>\n",
       "      <th>Neighborhood</th>\n",
       "    </tr>\n",
       "    <tr>\n",
       "      <th>Postal code</th>\n",
       "      <th></th>\n",
       "      <th></th>\n",
       "    </tr>\n",
       "  </thead>\n",
       "  <tbody>\n",
       "    <tr>\n",
       "      <th>M7Y</th>\n",
       "      <td>East Toronto</td>\n",
       "      <td>Business reply mail Processing CentrE</td>\n",
       "    </tr>\n",
       "    <tr>\n",
       "      <th>M8Y</th>\n",
       "      <td>Etobicoke</td>\n",
       "      <td>Old Mill South / King's Mill Park / Sunnylea /...</td>\n",
       "    </tr>\n",
       "    <tr>\n",
       "      <th>M8Z</th>\n",
       "      <td>Etobicoke</td>\n",
       "      <td>Mimico NW / The Queensway West / South of Bloo...</td>\n",
       "    </tr>\n",
       "    <tr>\n",
       "      <th>M9C</th>\n",
       "      <td>Etobicoke</td>\n",
       "      <td>Eringate / Bloordale Gardens / Old Burnhamthor...</td>\n",
       "    </tr>\n",
       "    <tr>\n",
       "      <th>M4E</th>\n",
       "      <td>East Toronto</td>\n",
       "      <td>The Beaches, HI</td>\n",
       "    </tr>\n",
       "  </tbody>\n",
       "</table>\n",
       "</div>"
      ],
      "text/plain": [
       "0                 Borough                                       Neighborhood\n",
       "Postal code                                                                 \n",
       "M7Y          East Toronto              Business reply mail Processing CentrE\n",
       "M8Y             Etobicoke  Old Mill South / King's Mill Park / Sunnylea /...\n",
       "M8Z             Etobicoke  Mimico NW / The Queensway West / South of Bloo...\n",
       "M9C             Etobicoke  Eringate / Bloordale Gardens / Old Burnhamthor...\n",
       "M4E          East Toronto                                    The Beaches, HI"
      ]
     },
     "execution_count": 24,
     "metadata": {},
     "output_type": "execute_result"
    }
   ],
   "source": [
    "df.tail()"
   ]
  },
  {
   "cell_type": "code",
   "execution_count": null,
   "metadata": {},
   "outputs": [],
   "source": []
  }
 ],
 "metadata": {
  "kernelspec": {
   "display_name": "Python 3",
   "language": "python",
   "name": "python3"
  },
  "language_info": {
   "codemirror_mode": {
    "name": "ipython",
    "version": 3
   },
   "file_extension": ".py",
   "mimetype": "text/x-python",
   "name": "python",
   "nbconvert_exporter": "python",
   "pygments_lexer": "ipython3",
   "version": "3.7.6"
  }
 },
 "nbformat": 4,
 "nbformat_minor": 4
}
